{
  "nbformat": 4,
  "nbformat_minor": 0,
  "metadata": {
    "colab": {
      "name": "Test_2(Prueba Con TensorFlow un Modelo Pre Entrenado).ipynb",
      "provenance": [],
      "authorship_tag": "ABX9TyNXZ19rPXMGKEcABZd9+6k1",
      "include_colab_link": true
    },
    "kernelspec": {
      "name": "python3",
      "display_name": "Python 3"
    },
    "language_info": {
      "name": "python"
    }
  },
  "cells": [
    {
      "cell_type": "markdown",
      "metadata": {
        "id": "view-in-github",
        "colab_type": "text"
      },
      "source": [
        "<a href=\"https://colab.research.google.com/github/Zelechos/Generador-Css/blob/main/Test_2(Prueba_Con_TensorFlow_un_Modelo_Pre_Entrenado).ipynb\" target=\"_parent\"><img src=\"https://colab.research.google.com/assets/colab-badge.svg\" alt=\"Open In Colab\"/></a>"
      ]
    },
    {
      "cell_type": "markdown",
      "source": [
        "[Inspirado en este video](https://www.youtube.com/watch?v=p2sTJYoIwj0)"
      ],
      "metadata": {
        "id": "ko91psEeb12R"
      }
    },
    {
      "cell_type": "code",
      "execution_count": null,
      "metadata": {
        "id": "k0zFXfqjbhFf"
      },
      "outputs": [],
      "source": [
        ""
      ]
    }
  ]
}