{
  "nbformat": 4,
  "nbformat_minor": 0,
  "metadata": {
    "colab": {
      "name": "GeneradorCSS.ipynb",
      "provenance": [],
      "include_colab_link": true
    },
    "kernelspec": {
      "name": "python3",
      "display_name": "Python 3"
    },
    "language_info": {
      "name": "python"
    }
  },
  "cells": [
    {
      "cell_type": "markdown",
      "metadata": {
        "id": "view-in-github",
        "colab_type": "text"
      },
      "source": [
        "<a href=\"https://colab.research.google.com/github/Zelechos/Generador-Css/blob/main/GeneradorCSS.ipynb\" target=\"_parent\"><img src=\"https://colab.research.google.com/assets/colab-badge.svg\" alt=\"Open In Colab\"/></a>"
      ]
    },
    {
      "cell_type": "markdown",
      "metadata": {
        "id": "bN15gvKIX-Ha"
      },
      "source": [
        "# **Proyecto Generador de CSS [v0.0.0]**"
      ]
    },
    {
      "cell_type": "code",
      "metadata": {
        "ExecuteTime": {
          "end_time": "2021-03-24T11:35:52.260914Z",
          "start_time": "2021-03-24T11:35:50.646914Z"
        },
        "id": "veterinary-bahrain"
      },
      "source": [
        "import pytorch_lightning as pl\n",
        "import torch\n",
        "import matplotlib.pyplot as plt\n",
        "import torch.nn.functional as F\n",
        "import numpy as np\n",
        "\n",
        "from sklearn.datasets import fetch_openml\n",
        "from torch.utils.data import DataLoader"
      ],
      "execution_count": null,
      "outputs": []
    },
    {
      "cell_type": "markdown",
      "metadata": {
        "id": "0VnNOPgW4JHk"
      },
      "source": [
        "# Clonamos nuestro repositorio en donde se encuentra nuestro dataset con este comando"
      ]
    },
    {
      "cell_type": "code",
      "metadata": {
        "id": "DbRrBcSn4IRF"
      },
      "source": [
        "!git clone https://github.com/Zelechos/Generador-Css.git"
      ],
      "execution_count": null,
      "outputs": []
    },
    {
      "cell_type": "code",
      "metadata": {
        "id": "q6mRvhNZ5_fK"
      },
      "source": [
        "# en este caso no es necesario ya que tenemos el dataset en github por ende tenemos que trabajar con el dataset y ver como esta organizado el json del inge\n",
        "from google.colab import drive\n",
        "drive.mount('/content/drive')"
      ],
      "execution_count": null,
      "outputs": []
    },
    {
      "cell_type": "code",
      "metadata": {
        "id": "qR_sbwuh41Dk"
      },
      "source": [
        "#hacemos una copia para trabajar con el dataset\n",
        "import shutil\n",
        "\n",
        "shutil.copy(\"/content/drive/MyDrive/revisiones.json\",\"/content/revisiones.json\")"
      ],
      "execution_count": null,
      "outputs": []
    },
    {
      "cell_type": "markdown",
      "metadata": {
        "id": "qD_besEJ5uxB"
      },
      "source": [
        "# Realizamos el Preprocesamiento de Textos"
      ]
    },
    {
      "cell_type": "code",
      "metadata": {
        "id": "FUUjEn8C5q1p"
      },
      "source": [
        "import json\n",
        "\n",
        "with open('/content/revisiones.json') as file:\n",
        "    data = json.load(file)\n",
        "\n",
        "#accedemos a la evaluation\n",
        "print(\"evaluation : \", data[\"paper\"][0][\"review\"][0][\"evaluation\"])\n",
        "\n",
        "#accedemos a la text\n",
        "print(\"text : \", data[\"paper\"][0][\"review\"][0][\"text\"])\n",
        "\n",
        "#averiguando la longitud\n",
        "print(\"longitud : \", len(data[\"paper\"][0][\"review\"]))\n",
        "\n",
        "paper = data[\"paper\"]\n"
      ],
      "execution_count": null,
      "outputs": []
    }
  ]
}