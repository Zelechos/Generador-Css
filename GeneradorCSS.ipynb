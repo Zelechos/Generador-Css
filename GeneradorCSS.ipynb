{
  "nbformat": 4,
  "nbformat_minor": 0,
  "metadata": {
    "colab": {
      "name": "GeneradorCSS.ipynb",
      "provenance": [],
      "include_colab_link": true
    },
    "kernelspec": {
      "name": "python3",
      "display_name": "Python 3"
    },
    "language_info": {
      "name": "python"
    },
    "accelerator": "GPU"
  },
  "cells": [
    {
      "cell_type": "markdown",
      "metadata": {
        "id": "view-in-github",
        "colab_type": "text"
      },
      "source": [
        "<a href=\"https://colab.research.google.com/github/Zelechos/Generador-Css/blob/main/GeneradorCSS.ipynb\" target=\"_parent\"><img src=\"https://colab.research.google.com/assets/colab-badge.svg\" alt=\"Open In Colab\"/></a>"
      ]
    },
    {
      "cell_type": "markdown",
      "metadata": {
        "id": "bN15gvKIX-Ha"
      },
      "source": [
        "# **Proyecto Generador de CSS [v0.0.6]**"
      ]
    },
    {
      "cell_type": "markdown",
      "metadata": {
        "id": "0VnNOPgW4JHk"
      },
      "source": [
        "# Clonamos nuestro repositorio en donde se encuentra nuestro dataset con este comando"
      ]
    },
    {
      "cell_type": "code",
      "metadata": {
        "id": "DbRrBcSn4IRF",
        "outputId": "eb7bf669-792e-428b-8528-9ec36f6b16b1",
        "colab": {
          "base_uri": "https://localhost:8080/"
        }
      },
      "source": [
        "!git clone https://github.com/Zelechos/Generador-Css.git"
      ],
      "execution_count": 1,
      "outputs": [
        {
          "output_type": "stream",
          "name": "stdout",
          "text": [
            "Cloning into 'Generador-Css'...\n",
            "remote: Enumerating objects: 49, done.\u001b[K\n",
            "remote: Counting objects: 100% (49/49), done.\u001b[K\n",
            "remote: Compressing objects: 100% (45/45), done.\u001b[K\n",
            "remote: Total 49 (delta 15), reused 13 (delta 3), pack-reused 0\u001b[K\n",
            "Unpacking objects: 100% (49/49), done.\n"
          ]
        }
      ]
    },
    {
      "cell_type": "markdown",
      "metadata": {
        "id": "b3rBPXXFuelK"
      },
      "source": [
        "### en este caso no es necesario ya que tenemos el dataset en github por ende tenemos que trabajar con el dataset que esta en formato json"
      ]
    },
    {
      "cell_type": "markdown",
      "metadata": {
        "id": "qD_besEJ5uxB"
      },
      "source": [
        "### Accedemos a los datos del dataset TEST.json\n"
      ]
    },
    {
      "cell_type": "code",
      "metadata": {
        "id": "FUUjEn8C5q1p",
        "outputId": "6d79db53-5d80-4ea8-813c-d2df265bc7ea",
        "colab": {
          "base_uri": "https://localhost:8080/"
        }
      },
      "source": [
        "import json\n",
        "\n",
        "with open('/content/Generador-Css/dataset/TEST.json') as file:\n",
        "    data = json.load(file)\n",
        "\n",
        "#accedemos a la los datos\n",
        "data_styles = data[\"styles\"]\n",
        "print(data_styles[0])\n",
        "\n",
        "\n",
        "#accediendo a los estilos\n",
        "styles = data_styles[0][\"style\"]\n",
        "print(\"\\nstyles access => \",styles)\n",
        "\n",
        "\n",
        "#accediendo a los selectores\n",
        "selector = data_styles[0][\"selector\"]\n",
        "print(\"\\nselector access => \",selector)\n"
      ],
      "execution_count": 2,
      "outputs": [
        {
          "output_type": "stream",
          "name": "stdout",
          "text": [
            "{'style': 'body{overflow:hidden;background:rgb(25,35,125)}', 'selector': 'body'}\n",
            "\n",
            "styles access =>  body{overflow:hidden;background:rgb(25,35,125)}\n",
            "\n",
            "selector access =>  body\n"
          ]
        }
      ]
    },
    {
      "cell_type": "markdown",
      "metadata": {
        "id": "kyLQIJ6A6Qom"
      },
      "source": [
        "### Creamos un array para poder mandar los datos y luego tranformarlos en numeros"
      ]
    },
    {
      "cell_type": "code",
      "metadata": {
        "id": "nzfDVXgs6Xu2",
        "outputId": "9fbe0d06-447f-4c4f-bbc6-e1ca276db69f",
        "colab": {
          "base_uri": "https://localhost:8080/"
        }
      },
      "source": [
        "data_css = []\n",
        "styles = []\n",
        "selectors = []\n",
        "for data in data_styles:\n",
        "  selectors.append(data[\"selector\"])\n",
        "  styles.append(data[\"style\"])\n",
        " \n",
        "# print(selectors)\n",
        "# print(styles)\n",
        "data_css.append(selectors)\n",
        "data_css.append(styles)\n",
        "print(data_css[0])\n"
      ],
      "execution_count": 3,
      "outputs": [
        {
          "output_type": "stream",
          "name": "stdout",
          "text": [
            "['body', 'div.drop-container', 'div.drop', 'h1', '@font-face', 'body', '.logo', '.switch-left', '.pad-left', '.switch-right', '.pad-right', '.line', '.text', '.text', '.text', '.reload', '.logo', 'html,body', 'body', '*', '*', '*', '.css_lab', '.witch', 'body', 'body img', 'img', 'body h1', 'h1', 'body a', 'a', '@keyframes glow', 'from', 'to', 'body', 'h1', 'ul', 'li', 'li:hover span', 'li.invisible', 'li.animate', 'span', 'span:before', 'html', 'body', 'header', 'article', 'h3,section', 'h3', 'section', 'h3:before', 'h3:before,section:before', 'section:before', 'h3', 'section', 'h3:before', 'section:before', 'p', 'a', 'body,html', 'body', 'html', 'div.codepen', 'div', '.codepen', '*', 'body', 'aside.context', '.context', 'aside', 'a', 'a:hover', 'footer', 'footer a', 'a']\n"
          ]
        }
      ]
    },
    {
      "cell_type": "markdown",
      "metadata": {
        "id": "8uZJoUBfwV0U"
      },
      "source": [
        "### Convertimos los datos a numeros para trabajar\n",
        "\n",
        "### Pasos a Seguir para construir mi Custom Dataset\n",
        "1.   Contruir el vocabulario para asignar a cada palabra\n",
        "2.   Configurar un dataset de Pytorch para cargar nuestro datos\n",
        "2.   Configurar el batch para que todos los ejemplos tengan las misma longitud (seq_len) y tambien configuramos el dataloader\n",
        "\n",
        "\n"
      ]
    },
    {
      "cell_type": "markdown",
      "metadata": {
        "id": "D2zqHb7Uxw-S"
      },
      "source": [
        "## Importaciones requeridas"
      ]
    },
    {
      "cell_type": "code",
      "metadata": {
        "id": "sbu8Hq1ywabl",
        "colab": {
          "base_uri": "https://localhost:8080/",
          "height": 408
        },
        "outputId": "aea232a7-04cb-4a3a-b2af-55c44579f518"
      },
      "source": [
        "import torch\n",
        "import torch.nn\n",
        "import spacy # para la tokenizacion\n",
        "import pandas as pd # para buscar en el archivo de anotaciones (atento)\n",
        "from torch.nn.utils.rnn import pad_squence #para el lote de almohadillas (pad batch) para que todos los datos tengan la misma longitud\n",
        "from torch.utils.data import Dataloader , Dataset #para crea el dataset y el dataloader para el entrenamiento"
      ],
      "execution_count": 5,
      "outputs": [
        {
          "output_type": "error",
          "ename": "ImportError",
          "evalue": "ignored",
          "traceback": [
            "\u001b[0;31m---------------------------------------------------------------------------\u001b[0m",
            "\u001b[0;31mImportError\u001b[0m                               Traceback (most recent call last)",
            "\u001b[0;32m<ipython-input-5-3b611f96d385>\u001b[0m in \u001b[0;36m<module>\u001b[0;34m()\u001b[0m\n\u001b[1;32m      3\u001b[0m \u001b[0;32mimport\u001b[0m \u001b[0mspacy\u001b[0m \u001b[0;31m# para la tokenizacion\u001b[0m\u001b[0;34m\u001b[0m\u001b[0;34m\u001b[0m\u001b[0m\n\u001b[1;32m      4\u001b[0m \u001b[0;32mimport\u001b[0m \u001b[0mpandas\u001b[0m \u001b[0;32mas\u001b[0m \u001b[0mpd\u001b[0m \u001b[0;31m# para buscar en el archivo de anotaciones (atento)\u001b[0m\u001b[0;34m\u001b[0m\u001b[0;34m\u001b[0m\u001b[0m\n\u001b[0;32m----> 5\u001b[0;31m \u001b[0;32mfrom\u001b[0m \u001b[0mtorch\u001b[0m\u001b[0;34m.\u001b[0m\u001b[0mnn\u001b[0m\u001b[0;34m.\u001b[0m\u001b[0mutils\u001b[0m\u001b[0;34m.\u001b[0m\u001b[0mrnn\u001b[0m \u001b[0;32mimport\u001b[0m \u001b[0mpad_squence\u001b[0m \u001b[0;31m#para el lote de almohadillas (pad batch) para que todos los datos tengan la misma longitud\u001b[0m\u001b[0;34m\u001b[0m\u001b[0;34m\u001b[0m\u001b[0m\n\u001b[0m\u001b[1;32m      6\u001b[0m \u001b[0;32mfrom\u001b[0m \u001b[0mtorch\u001b[0m\u001b[0;34m.\u001b[0m\u001b[0mutils\u001b[0m\u001b[0;34m.\u001b[0m\u001b[0mdata\u001b[0m \u001b[0;32mimport\u001b[0m \u001b[0mDataloader\u001b[0m \u001b[0;34m,\u001b[0m \u001b[0mDataset\u001b[0m \u001b[0;31m#para crea el dataset y el dataloader para el entrenamiento\u001b[0m\u001b[0;34m\u001b[0m\u001b[0;34m\u001b[0m\u001b[0m\n",
            "\u001b[0;31mImportError\u001b[0m: cannot import name 'pad_squence' from 'torch.nn.utils.rnn' (/usr/local/lib/python3.7/dist-packages/torch/nn/utils/rnn.py)",
            "",
            "\u001b[0;31m---------------------------------------------------------------------------\u001b[0;32m\nNOTE: If your import is failing due to a missing package, you can\nmanually install dependencies using either !pip or !apt.\n\nTo view examples of installing some common dependencies, click the\n\"Open Examples\" button below.\n\u001b[0;31m---------------------------------------------------------------------------\u001b[0m\n"
          ],
          "errorDetails": {
            "actions": [
              {
                "action": "open_url",
                "actionText": "Open Examples",
                "url": "/notebooks/snippets/importing_libraries.ipynb"
              }
            ]
          }
        }
      ]
    },
    {
      "cell_type": "markdown",
      "source": [
        "### Clase para crear nuestro vocabulario"
      ],
      "metadata": {
        "id": "YyqCRf_NzLHX"
      }
    },
    {
      "cell_type": "code",
      "metadata": {
        "id": "NAyccPMCK3iu"
      },
      "source": [
        "class Vocabulary:\n",
        "\n",
        "  def __init__(self, freq_threshold):\n",
        "    self.itos = {0:\"<PAD>\", 1:\"<SOS>\", 2:\"<EOS>\", 3:\"<UNK>\"}\n",
        "    self.stoi = {\"<PAD>\":0, \"<SOS>\":1, \"<EOS>\":2, \"<UNK>\":3}\n",
        "    self.freq_threshold = freq_threshold\n",
        "\n",
        "  def __len__(self):\n",
        "    #devolvemos la longitud de nuestro vocabulario\n",
        "    return len(self.itos)\n",
        "\n",
        "  #metodo para definir el ingles de nuestro vocabulario\n",
        "  @staticmethod\n",
        "  def tokenizer_eng(text):\n",
        "    return [tok.text.lower() for tok in spacy_eng.tokenizer(text)]\n",
        "\n",
        "  #ESTO ES LO QUE HACER EJEMPLO!!!\n",
        "  # \"body{background-color:red;}\"\" => [\"body\",\"{\",\"background\",\"-\",\"color\",\":\",\"red\",\";\",\"}\"]\n",
        "\n",
        "  #construimos el vocabulario!!\n",
        "  def build_vocabulary(self, sentence_list):\n",
        "    frequencies = {}\n",
        "    idx = 4\n",
        "\n",
        "    for sentence in sentence_list:\n",
        "      for word in self.tokenizer_eng(sentence):\n",
        "        if word not in frequencies:\n",
        "          frequencies[word] = 1\n",
        "        else:\n",
        "          frequencies[word] += 1\n",
        "\n",
        "        if frequencies[word] == self.freq_threshold:\n",
        "          self.stoi[word] = idx\n",
        "          self.itos[idx] = word\n",
        "          idx += 1\n",
        "\n",
        "  def numericalize(self, text):\n",
        "    tokenized_text = self.tokenizer_eng(text)\n",
        "    return [\n",
        "            self.stoi[token] if token in self.stoi else self.stoi[\"<UNK>\"]\n",
        "            for token in tokenized_text\n",
        "    ]"
      ],
      "execution_count": null,
      "outputs": []
    },
    {
      "cell_type": "markdown",
      "metadata": {
        "id": "5-7wWWh3K4Hz"
      },
      "source": [
        "### Clase CssDataset para clasificar el conjunto de datos nuestro dataset"
      ]
    },
    {
      "cell_type": "code",
      "metadata": {
        "id": "yYe-StziK8MM"
      },
      "source": [
        "class CssDataset(Dataset):\n",
        "\n",
        "  def __init__ (self, css_styles, transform = None, freq_threshold = 5):\n",
        "    self.df = css_styles\n",
        "    self.transform = transform\n",
        "\n",
        "    # vamos a obtener nuestros selectores\n",
        "    self.selectors = self.df[0]\n",
        "\n",
        "    # vamos a obtener nuestros styles\n",
        "    self.styles = self.df[1]\n",
        "    \n",
        "    #Incializamos el Vocabulario (IMPORTANTEE!!!)\n",
        "    self.vocab = Vocabulary(freq_threshold)\n",
        "    self.vocab.build_vocabulary(self.styles) #Pasamos las Listas a el vocabulario\n",
        "\n",
        "  def __len__(self):\n",
        "    return len(self.df[1]) #devolvemos la longitud de nuestros dataset\n",
        "\n",
        "  def __getitem__(self, index):\n",
        "    selector = self.selectores[index]\n",
        "    style = self.styles[index]\n",
        "\n",
        "    numericalized_style = [self.vocab.stoi[\"<SOS>\"]] \n",
        "    numericalized_style += self.vocab.numericalize(style) \n",
        "    numericalized_style.append(self.vocab.stoi[\"<EOS>\"]) \n",
        "\n",
        "    return selector , torch.tensor(numericalized_style) \n"
      ],
      "execution_count": null,
      "outputs": []
    },
    {
      "cell_type": "markdown",
      "source": [
        "## Clase para cargar los datos"
      ],
      "metadata": {
        "id": "SqLMlAamBvzl"
      }
    },
    {
      "cell_type": "code",
      "source": [
        "class MyCollate:\n",
        "\n",
        "  def __init__(self, pad_idx):\n",
        "    self.pad_idx = pad_idx\n",
        "\n",
        "  def __call__(self, batch):\n",
        "    selector = [item[0].unsqueeze(0) for item in batch]\n",
        "    targets = [item[1] for item in batch]\n",
        "    targets = pad_sequence(targets, batch_first = False, padding_value = self.pad_idx )\n",
        "\n",
        "    return selector, targets\n",
        "\n",
        "  def get_loader(css_styles, annotation_file, transform, batch_size = 32, num_workers = 8, shuffle = True, pin_memory = True):\n",
        "    dataset = CssDataset(css_styles, annotation_file, transform=transform)\n",
        "    pad_idx = dataset.vocab.stoi[\"<PAD>\"]\n",
        "\n",
        "    loader = DataLoader(\n",
        "        dataset = dataset,\n",
        "        batch_size = batch_size,\n",
        "        num_workers = num_workers,\n",
        "        shuffle= shuffle,\n",
        "        pin_memory=pin_memory,\n",
        "        collate_fn=MyCollate(pad_idx=pad_idx),\n",
        "    )\n",
        "\n",
        "    return loader\n",
        "\n",
        "\n",
        "  dataloader = get_loader(data_css[0],annotation_file = data_css,transform=None)\n",
        "\n",
        "  for idx , (selectors, styles) in enumerate(dataloader):\n",
        "    print(selectors.shape)\n",
        "    print(styles.shape)\n",
        "\n",
        "\n",
        "\n"
      ],
      "metadata": {
        "id": "HZhlq6IcBhhO"
      },
      "execution_count": null,
      "outputs": []
    }
  ]
}