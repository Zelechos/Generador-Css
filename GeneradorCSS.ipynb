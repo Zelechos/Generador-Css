{
  "nbformat": 4,
  "nbformat_minor": 0,
  "metadata": {
    "colab": {
      "name": "GeneradorCSS.ipynb",
      "provenance": [],
      "include_colab_link": true
    },
    "kernelspec": {
      "name": "python3",
      "display_name": "Python 3"
    },
    "language_info": {
      "name": "python"
    }
  },
  "cells": [
    {
      "cell_type": "markdown",
      "metadata": {
        "id": "view-in-github",
        "colab_type": "text"
      },
      "source": [
        "<a href=\"https://colab.research.google.com/github/Zelechos/Generador-Css/blob/main/GeneradorCSS.ipynb\" target=\"_parent\"><img src=\"https://colab.research.google.com/assets/colab-badge.svg\" alt=\"Open In Colab\"/></a>"
      ]
    },
    {
      "cell_type": "markdown",
      "metadata": {
        "id": "bN15gvKIX-Ha"
      },
      "source": [
        "# **Proyecto Generador de CSS [v0.0.4]**"
      ]
    },
    {
      "cell_type": "code",
      "metadata": {
        "ExecuteTime": {
          "end_time": "2021-03-24T11:35:52.260914Z",
          "start_time": "2021-03-24T11:35:50.646914Z"
        },
        "id": "veterinary-bahrain"
      },
      "source": [
        "import torch\n",
        "import torch.nn as nn"
      ],
      "execution_count": null,
      "outputs": []
    },
    {
      "cell_type": "markdown",
      "metadata": {
        "id": "0VnNOPgW4JHk"
      },
      "source": [
        "# Clonamos nuestro repositorio en donde se encuentra nuestro dataset con este comando"
      ]
    },
    {
      "cell_type": "code",
      "metadata": {
        "id": "DbRrBcSn4IRF"
      },
      "source": [
        "!git clone https://github.com/Zelechos/Generador-Css.git"
      ],
      "execution_count": null,
      "outputs": []
    },
    {
      "cell_type": "code",
      "metadata": {
        "id": "q6mRvhNZ5_fK"
      },
      "source": [
        "# en este caso no es necesario ya que tenemos el dataset en github por ende tenemos que trabajar con el dataset y ver como esta organizado el json del inge\n",
        "from google.colab import drive\n",
        "drive.mount('/content/drive')"
      ],
      "execution_count": null,
      "outputs": []
    },
    {
      "cell_type": "code",
      "metadata": {
        "id": "qR_sbwuh41Dk"
      },
      "source": [
        "#hacemos una copia para trabajar con el dataset\n",
        "import shutil\n",
        "\n",
        "shutil.copy(\"/content/drive/MyDrive/revisiones.json\",\"/content/revisiones.json\")"
      ],
      "execution_count": null,
      "outputs": []
    },
    {
      "cell_type": "markdown",
      "metadata": {
        "id": "qD_besEJ5uxB"
      },
      "source": [
        "# Realizamos el Preprocesamiento de Textos"
      ]
    },
    {
      "cell_type": "code",
      "metadata": {
        "id": "FUUjEn8C5q1p"
      },
      "source": [
        "import json\n",
        "\n",
        "with open('/content/revisiones.json') as file:\n",
        "    data = json.load(file)\n",
        "\n",
        "#accedemos a la evaluation\n",
        "print(\"evaluation : \", data[\"paper\"][0][\"review\"][0][\"evaluation\"])\n",
        "\n",
        "#accedemos a la text\n",
        "print(\"text : \", data[\"paper\"][0][\"review\"][0][\"text\"])\n",
        "\n",
        "#averiguando la longitud\n",
        "print(\"longitud : \", len(data[\"paper\"][0][\"review\"]))\n",
        "\n",
        "paper = data[\"paper\"]\n"
      ],
      "execution_count": null,
      "outputs": []
    },
    {
      "cell_type": "markdown",
      "metadata": {
        "id": "jeh4-u22_f01"
      },
      "source": [
        "# Iniciamos con el Transformer"
      ]
    },
    {
      "cell_type": "code",
      "metadata": {
        "id": "ZeiMl8_2_mSN"
      },
      "source": [
        "class SelfAttention(nn.Module):\n",
        "  def __init__(self, embed_size, heads):\n",
        "    super(SelfAttention, self).__init__()\n",
        "    self.embed_size = embed_size\n",
        "    self.heads = heads\n",
        "    self.head_dim = embed_size // heads\n",
        "\n",
        "    assert (self.head_dim * heads == embed_size), \"Embed size needs to be div by heads\"\n",
        "\n",
        "    self.values = nn.Linear(self.head_dim, self.head_dim, bias=False)\n",
        "    self.keys = nn.Linear(self.head_dim, self.head_dim, bias=False)\n",
        "    self.queries = nn.Linear(self.head_dim, self.head_dim, bias=False)\n",
        "    self.fc_out = nn.Linear(heads * self.head_dim, embed_size)\n",
        "\n",
        "  def forward(self, values, keys, query, mask):\n",
        "    N = query.shape[0]\n",
        "    value_len, key_len, query_len =  values.shape[1], keys.shape[1], query.shape[1]\n",
        "\n",
        "    # dividir el incrustando self.heads en pedazos\n",
        "    values = values.reshape(N, value_len, self.heads, self.head_dim)  \n",
        "    keys = keys.reshape(N, key_len, self.heads, self.head_dim)  \n",
        "    queries = query.reshape(N, key_len, self.heads, self.head_dim)  \n",
        "\n",
        "    energy = torch.einsum(\"nqhd, nkhd->nhqk\", [queries, keys])\n",
        "\n",
        "\n",
        "    if mask is not None :\n",
        "      energy = energy.masked_fill(mask == 0, float(\"-1e20\"))\n",
        "    \n",
        "    \n",
        "    attention = torch.softmax(energy / (self.embed_size ** (1/2)), dim = 3)\n",
        "\n",
        "    out = torch.einsum(\"nhql,nlhd->nqhd\", [attention, values]).reshape(\n",
        "      N, query_len, self.heads * self.head_dim        \n",
        "    )\n",
        "\n",
        "    out = self.fc_out(out)\n",
        "    return out\n"
      ],
      "execution_count": null,
      "outputs": []
    },
    {
      "cell_type": "markdown",
      "metadata": {
        "id": "5-7wWWh3K4Hz"
      },
      "source": [
        "# Clase TransformerBlock"
      ]
    },
    {
      "cell_type": "code",
      "metadata": {
        "id": "yYe-StziK8MM"
      },
      "source": [
        "class TransformerBlock()\n"
      ],
      "execution_count": null,
      "outputs": []
    },
    {
      "cell_type": "code",
      "metadata": {
        "id": "NAyccPMCK3iu"
      },
      "source": [
        ""
      ],
      "execution_count": null,
      "outputs": []
    }
  ]
}