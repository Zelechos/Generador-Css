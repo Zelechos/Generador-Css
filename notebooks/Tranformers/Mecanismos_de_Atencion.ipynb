{
  "nbformat": 4,
  "nbformat_minor": 0,
  "metadata": {
    "colab": {
      "name": "Mecanismos de Atencion.ipynb",
      "provenance": [],
      "collapsed_sections": [],
      "authorship_tag": "ABX9TyOPqjTOG9i5Xnt8rb46t9V4",
      "include_colab_link": true
    },
    "kernelspec": {
      "name": "python3",
      "display_name": "Python 3"
    },
    "language_info": {
      "name": "python"
    },
    "accelerator": "GPU"
  },
  "cells": [
    {
      "cell_type": "markdown",
      "metadata": {
        "id": "view-in-github",
        "colab_type": "text"
      },
      "source": [
        "<a href=\"https://colab.research.google.com/github/Zelechos/Generador-Css/blob/main/notebooks/Tranformers/Mecanismos_de_Atencion.ipynb\" target=\"_parent\"><img src=\"https://colab.research.google.com/assets/colab-badge.svg\" alt=\"Open In Colab\"/></a>"
      ]
    },
    {
      "cell_type": "markdown",
      "metadata": {
        "id": "cByAQ2mV7F7S"
      },
      "source": [
        ""
      ]
    },
    {
      "cell_type": "markdown",
      "metadata": {
        "id": "diagnostic-gibraltar"
      },
      "source": [
        "# Transformers - Mecanismos de Atención"
      ]
    },
    {
      "cell_type": "markdown",
      "source": [
        "# *Hard attention*\n",
        "*hard attention mechanism* : Este mecanismo de atención no produce nada nuevo, produce a la salida lo mismo que recibe a la entrada."
      ],
      "metadata": {
        "id": "rUUku8Wdq7dn"
      }
    },
    {
      "cell_type": "markdown",
      "metadata": {
        "id": "ol5nueq27bJQ"
      },
      "source": [
        "Crearemos un conjunto de vectores como inputs esto nos tiene que dar como resultado otro conjunto de vectores en este caso los outputs que no variaran."
      ]
    },
    {
      "cell_type": "code",
      "metadata": {
        "ExecuteTime": {
          "end_time": "2021-03-24T08:12:14.858427Z",
          "start_time": "2021-03-24T08:12:14.420511Z"
        },
        "id": "allied-laundry"
      },
      "source": [
        "import numpy as np\n",
        "import torch\n",
        "import matplotlib.pyplot as plt"
      ],
      "execution_count": 1,
      "outputs": []
    },
    {
      "cell_type": "markdown",
      "source": [
        "Creamos nuestro tensor que nos servira como input dando a entender que estos valores son los datos que normalmente ntroducimos al Modelo."
      ],
      "metadata": {
        "id": "zToIw-EJp4pp"
      }
    },
    {
      "cell_type": "code",
      "metadata": {
        "colab": {
          "base_uri": "https://localhost:8080/"
        },
        "id": "J5Dgimho8dj1",
        "outputId": "016b15c6-eedf-4e93-a369-e0e67ab5323f"
      },
      "source": [
        "my_data = torch.tensor([[3, 0],[0, 3], [-1, -1]])\n",
        "print(my_data)"
      ],
      "execution_count": 5,
      "outputs": [
        {
          "output_type": "stream",
          "name": "stdout",
          "text": [
            "tensor([[ 3,  0],\n",
            "        [ 0,  3],\n",
            "        [-1, -1]])\n"
          ]
        }
      ]
    },
    {
      "cell_type": "markdown",
      "source": [
        "Ploteamos nuestro tensor."
      ],
      "metadata": {
        "id": "wSbfgSGBqVYo"
      }
    },
    {
      "cell_type": "code",
      "metadata": {
        "colab": {
          "base_uri": "https://localhost:8080/",
          "height": 265
        },
        "id": "FKEVv0NG8diF",
        "outputId": "e0fe2549-c542-4138-ba9d-e0824702919f"
      },
      "source": [
        "def plot_vectors(X, y=None):\n",
        "    ax = plt.axes()\n",
        "    plt.grid()\n",
        "\n",
        "    for x in X:\n",
        "        ax.arrow(0, 0, x[0], x[1], head_width=0.2, head_length=0.2, color=\"green\")\n",
        "\n",
        "    if y is not None:\n",
        "        for _y in y:\n",
        "            if _y.sum() != 0:\n",
        "                ax.arrow(0, 0, _y[0], _y[1], head_width=0.1, head_length=0.1, color='red')\n",
        "    plt.xlim(-2,3.5)\n",
        "    plt.ylim(-2,3.5)\n",
        "    plt.show()\n",
        "\n",
        "plot_vectors(my_data)"
      ],
      "execution_count": 6,
      "outputs": [
        {
          "output_type": "display_data",
          "data": {
            "image/png": "[encoded data removed]",
            "text/plain": [
              "<Figure size 432x288 with 1 Axes>"
            ]
          },
          "metadata": {
            "needs_background": "light"
          }
        }
      ]
    },
    {
      "cell_type": "markdown",
      "source": [
        "Creamos nuestro vector atencion al primer vector. "
      ],
      "metadata": {
        "id": "aPSKApaGsPeU"
      }
    },
    {
      "cell_type": "code",
      "metadata": {
        "colab": {
          "base_uri": "https://localhost:8080/"
        },
        "id": "PLtc1jZr-Jh0",
        "outputId": "b63f2f06-1e3b-447e-b5f1-c021d6774feb"
      },
      "source": [
        "Vector_atencion = torch.tensor([1, 0, 0])\n",
        "print(Vector_atencion)"
      ],
      "execution_count": 8,
      "outputs": [
        {
          "output_type": "stream",
          "name": "stdout",
          "text": [
            "tensor([1, 0, 0])\n"
          ]
        }
      ]
    },
    {
      "cell_type": "markdown",
      "metadata": {
        "id": "premier-graphics"
      },
      "source": [
        "Para aplicar nuestro mecanismo de atención, simplemente multiplicamos nuestro conjunto de vectores por el vector de atención."
      ]
    },
    {
      "cell_type": "code",
      "metadata": {
        "colab": {
          "base_uri": "https://localhost:8080/"
        },
        "id": "KGVFW8hS-sfn",
        "outputId": "32e32de2-e8e5-4cff-ea65-f6b4926e20c9"
      },
      "source": [
        "# todos los vectores en la salida son 0, excepto al que hemos prestado atención\n",
        "# Aplicamos nuestro mecanismo de atencion\n",
        "vector_con_atencion = Vector_atencion.unsqueeze(1) * my_data\n",
        "print(vector_con_atencion)"
      ],
      "execution_count": 12,
      "outputs": [
        {
          "output_type": "stream",
          "name": "stdout",
          "text": [
            "tensor([[3, 0],\n",
            "        [0, 0],\n",
            "        [0, 0]])\n"
          ]
        }
      ]
    },
    {
      "cell_type": "markdown",
      "metadata": {
        "id": "lyUjjbPM_IaD"
      },
      "source": [
        "#### Como podemos ver se marca de rojo al vector que le hemos prestado atencion y dado que solo hemos prestado atención únicamente a un elemento del conjunto, deshechamos el resto."
      ]
    },
    {
      "cell_type": "code",
      "metadata": {
        "ExecuteTime": {
          "end_time": "2021-03-24T08:14:42.621293Z",
          "start_time": "2021-03-24T08:14:42.475282Z"
        },
        "id": "advisory-jerusalem",
        "colab": {
          "base_uri": "https://localhost:8080/",
          "height": 265
        },
        "outputId": "a270c01c-5080-4f98-cc57-2030dae92b2a"
      },
      "source": [
        "plot_vectors(my_data, vector_con_atencion)"
      ],
      "execution_count": 13,
      "outputs": [
        {
          "output_type": "display_data",
          "data": {
            "image/png": "[encoded data removed]",
            "text/plain": [
              "<Figure size 432x288 with 1 Axes>"
            ]
          },
          "metadata": {
            "needs_background": "light"
          }
        }
      ]
    },
    {
      "cell_type": "markdown",
      "metadata": {
        "id": "enhanced-winner"
      },
      "source": [
        "Podemos aplicar este mecanismo en una sola operación a todos los vectores generando una matriz de atención. En el caso de *hard attention*, esta matriz es la identidad."
      ]
    },
    {
      "cell_type": "code",
      "metadata": {
        "colab": {
          "base_uri": "https://localhost:8080/"
        },
        "id": "dN7yHj3v_QQJ",
        "outputId": "97c84443-5891-46ed-f493-9cf104f48ac9"
      },
      "source": [
        "# Creamos nuestro matriz de Atencion  \n",
        "print(\"------- Matriz de Atencion o Matriz Identidad -----------\")\n",
        "Matriz_Atencion = torch.eye(3)\n",
        "print(Matriz_Atencion)\n",
        "\n",
        "# Creamos una matriz de inputs\n",
        "print(\"------- Matriz de Inputs -----------\")\n",
        "Matriz_Inputs = torch.tensor([[3, 0],[0,3], [-1.5, -1.5]])\n",
        "print(Matriz_Inputs)"
      ],
      "execution_count": 16,
      "outputs": [
        {
          "output_type": "stream",
          "name": "stdout",
          "text": [
            "------- Matriz de Atencion o Matriz Identidad -----------\n",
            "tensor([[1., 0., 0.],\n",
            "        [0., 1., 0.],\n",
            "        [0., 0., 1.]])\n",
            "------- Matriz de Inputs -----------\n",
            "tensor([[ 3.0000,  0.0000],\n",
            "        [ 0.0000,  3.0000],\n",
            "        [-1.5000, -1.5000]])\n"
          ]
        }
      ]
    },
    {
      "cell_type": "markdown",
      "metadata": {
        "id": "extended-begin"
      },
      "source": [
        "Multiplicando nuestra matriz de atención por la matriz que contiene todos los vectores de entrada, obtenemos los vectores de salida. En este caso, repetimos, obtendremos exactamente el mismo conjunto de vectores ya que cada vector a la salida atiene únicamente a un vector a la entrada, aquel que está en su misma posición. "
      ]
    },
    {
      "cell_type": "code",
      "metadata": {
        "colab": {
          "base_uri": "https://localhost:8080/"
        },
        "id": "l6nL3MPm_tkL",
        "outputId": "8ac44a15-fd88-4065-9c49-1b7be0906d95"
      },
      "source": [
        "Matriz_Output = Matriz_Atencion @ Matriz_Inputs\n",
        "\n",
        "print(\"------- Matriz de Ouputs -----------\")\n",
        "print(Matriz_Output)"
      ],
      "execution_count": 17,
      "outputs": [
        {
          "output_type": "stream",
          "name": "stdout",
          "text": [
            "------- Matriz de Ouputs -----------\n",
            "tensor([[ 3.0000,  0.0000],\n",
            "        [ 0.0000,  3.0000],\n",
            "        [-1.5000, -1.5000]])\n"
          ]
        }
      ]
    },
    {
      "cell_type": "code",
      "metadata": {
        "id": "4rb41gYNAwL4"
      },
      "source": [
        "# Ploteamos nuestras matrices\n",
        "def plot(X, Y):\n",
        "    fig = plt.figure(figsize=(15,4))\n",
        "    for i, (x, y) in enumerate(zip(X, Y)):\n",
        "      ax = plt.subplot(1, 3, i + 1)\n",
        "      for x in X:\n",
        "          ax.arrow(0, 0, x[0], x[1], head_width=0.3, color=\"green\", head_length=0.3)\n",
        "      ax.arrow(0, 0, y[0], y[1], head_width=0.3, head_length=0.3, color='red')\n",
        "      ax.set_xlim(-2,4.5)\n",
        "      ax.set_ylim(-2,4.5)\n",
        "      ax.grid(True)\n",
        "      ax.set_title(f\"Atiende a {X[i].tolist()}\")\n",
        "    plt.tight_layout()\n",
        "    plt.show()"
      ],
      "execution_count": null,
      "outputs": []
    },
    {
      "cell_type": "code",
      "metadata": {
        "colab": {
          "base_uri": "https://localhost:8080/",
          "height": 297
        },
        "id": "awzrpVkmAw7f",
        "outputId": "ab8732e8-3bc9-4a28-9288-18989d29e36c"
      },
      "source": [
        "plot(Matriz_Inputs,Y)"
      ],
      "execution_count": null,
      "outputs": [
        {
          "output_type": "display_data",
          "data": {
            "image/png": "[encoded data removed]",
            "text/plain": [
              "<Figure size 1080x288 with 3 Axes>"
            ]
          },
          "metadata": {
            "tags": [],
            "needs_background": "light"
          }
        }
      ]
    },
    {
      "cell_type": "markdown",
      "metadata": {
        "id": "neural-basin"
      },
      "source": [
        "## *Soft attention*"
      ]
    },
    {
      "cell_type": "markdown",
      "metadata": {
        "id": "03pGkNthC9Uk"
      },
      "source": [
        "En *Soft Attention* vamos a permitir prestar atención a todos los vectores a la entrada. Así pues, cada vector generado será una combinación de los inputs. En el siguiente ejemplo, cada vector generado presta un 90% de atención al vector en la entrada en su misma posición y un 5% al resto."
      ]
    },
    {
      "cell_type": "code",
      "metadata": {
        "colab": {
          "base_uri": "https://localhost:8080/"
        },
        "id": "BaoNLYhhDHn8",
        "outputId": "b01e5bfb-8b21-4de4-a922-1e5a05bafccb"
      },
      "source": [
        "# soft attention (cada fila suma 1)\n",
        "print(\"------- Matriz de Atencion -----------\")\n",
        "Matriz_Atencion = torch.ones((3, 3))*0.05\n",
        "Matriz_Atencion.fill_diagonal_(0.90)\n",
        "\n",
        "print(Matriz_Atencion)"
      ],
      "execution_count": 22,
      "outputs": [
        {
          "output_type": "stream",
          "name": "stdout",
          "text": [
            "------- Matriz de Atencion -----------\n",
            "tensor([[0.9000, 0.0500, 0.0500],\n",
            "        [0.0500, 0.9000, 0.0500],\n",
            "        [0.0500, 0.0500, 0.9000]])\n"
          ]
        }
      ]
    },
    {
      "cell_type": "code",
      "metadata": {
        "colab": {
          "base_uri": "https://localhost:8080/"
        },
        "id": "xLYPhMghD-tR",
        "outputId": "bdf464ef-b441-4b0f-9b47-97220ae5d2a3"
      },
      "source": [
        "Matriz_Outputs = Matriz_Atencion @ Matriz_Inputs\n",
        "print(\"------- Matriz de Inputs -----------\")\n",
        "print(Matriz_Inputs)\n",
        "print(\"------- Matriz de Outputs -----------\")\n",
        "print(Matriz_Outputs)"
      ],
      "execution_count": 24,
      "outputs": [
        {
          "output_type": "stream",
          "name": "stdout",
          "text": [
            "------- Matriz de Inputs -----------\n",
            "tensor([[ 3.0000,  0.0000],\n",
            "        [ 0.0000,  3.0000],\n",
            "        [-1.5000, -1.5000]])\n",
            "------- Matriz de Outputs -----------\n",
            "tensor([[ 2.6250,  0.0750],\n",
            "        [ 0.0750,  2.6250],\n",
            "        [-1.2000, -1.2000]])\n"
          ]
        }
      ]
    },
    {
      "cell_type": "code",
      "metadata": {
        "id": "0PoCRGu0ENah"
      },
      "source": [
        "def plot1(X, Y):\n",
        "    fig = plt.figure(figsize=(15,4))\n",
        "    for i, (x, y) in enumerate(zip(X, Y)):\n",
        "      ax = plt.subplot(1, 3, i + 1)\n",
        "      for x in X:\n",
        "          ax.arrow(0, 0, x[0], x[1], color=\"blue\", head_width=0.2, head_length=0.2)\n",
        "      Z = Matriz_Atencion[i].unsqueeze(1) * X\n",
        "      for z in Z:\n",
        "        ax.arrow(0, 0, z[0], z[1], head_width=0.2, head_length=0.2, color='green')\n",
        "      ax.arrow(0, 0, y[0], y[1], head_width=0.2, head_length=0.2, color='red')\n",
        "      ax.set_xlim(-2.5,4.5)\n",
        "      ax.set_ylim(-2.5,4.5)\n",
        "      ax.grid(True)\n",
        "      ax.set_title(f\"Atiende a {X[i].tolist()}\")\n",
        "    plt.tight_layout()\n",
        "    plt.show()"
      ],
      "execution_count": 25,
      "outputs": []
    },
    {
      "cell_type": "code",
      "metadata": {
        "colab": {
          "base_uri": "https://localhost:8080/",
          "height": 297
        },
        "id": "J1mpJ45WEOYy",
        "outputId": "7fecc76f-a5ab-44e5-cc4f-58194f7df322"
      },
      "source": [
        "plot1(Matriz_Inputs, Matriz_Outputs)"
      ],
      "execution_count": 26,
      "outputs": [
        {
          "output_type": "display_data",
          "data": {
            "image/png": "[encoded data removed]",
            "text/plain": [
              "<Figure size 1080x288 with 3 Axes>"
            ]
          },
          "metadata": {
            "needs_background": "light"
          }
        }
      ]
    },
    {
      "cell_type": "markdown",
      "source": [
        "Como se puede apreciar se muestra el vector al cual le hemos prestado mas atencion de color rojo*(una atencion del 90%)* entendiendo que tambien tiene una leve desviacion por la atencion que hemos dado a los demas vectores*(una atencion del 5% a cada vector)* esto nos da a entender que entre mayor atencion demos a un determinado vector mas importante este sera a la hora del entrenamiento."
      ],
      "metadata": {
        "id": "txEmChtAwkKF"
      }
    },
    {
      "cell_type": "markdown",
      "source": [
        "Ahora vamos a jugar con esto dada la anterior afirmacion de que \"*entre mayor atencion demos a un determinado vector mas importante este sera a la hora del entrenamiento*\" a continuacion le daremos la misma atencion a cada vector para ver que resultados nos genera."
      ],
      "metadata": {
        "id": "iI9ygysVxuMS"
      }
    },
    {
      "cell_type": "markdown",
      "source": [
        "*La suma de los valores del Vector tiene que ser igual a 1 , por eso si el vector tiene una longitud de 3 cada valor sera 0.3333* <br>(Prestando asi igual atención a todos los vectores)."
      ],
      "metadata": {
        "id": "PS5YJ0yxy5Dw"
      }
    },
    {
      "cell_type": "code",
      "metadata": {
        "id": "F2qMwh8-EP8h",
        "outputId": "e2b06da4-9b85-457c-cdb4-e7dbf897e59d",
        "colab": {
          "base_uri": "https://localhost:8080/"
        }
      },
      "source": [
        "Matriz_Atencion = torch.ones((3, 3))*(1./3.)\n",
        "\n",
        "print(\"------- Matriz de Atencion -----------\")\n",
        "print(Matriz_Atencion)"
      ],
      "execution_count": 28,
      "outputs": [
        {
          "output_type": "stream",
          "name": "stdout",
          "text": [
            "------- Matriz de Atencion -----------\n",
            "tensor([[0.3333, 0.3333, 0.3333],\n",
            "        [0.3333, 0.3333, 0.3333],\n",
            "        [0.3333, 0.3333, 0.3333]])\n"
          ]
        }
      ]
    },
    {
      "cell_type": "code",
      "metadata": {
        "id": "O5Fx41iXzYOq",
        "outputId": "5d102a77-4f33-4a58-f1ec-452a890aa069",
        "colab": {
          "base_uri": "https://localhost:8080/"
        }
      },
      "source": [
        "Matriz_Outputs2 = Matriz_Atencion @ Matriz_Inputs\n",
        "print(\"------- Matriz de Inputs -----------\")\n",
        "print(Matriz_Inputs)\n",
        "print(\"------- Matriz de Outputs -----------\")\n",
        "print(Matriz_Outputs2)"
      ],
      "execution_count": 29,
      "outputs": [
        {
          "output_type": "stream",
          "name": "stdout",
          "text": [
            "------- Matriz de Inputs -----------\n",
            "tensor([[ 3.0000,  0.0000],\n",
            "        [ 0.0000,  3.0000],\n",
            "        [-1.5000, -1.5000]])\n",
            "------- Matriz de Outputs -----------\n",
            "tensor([[0.5000, 0.5000],\n",
            "        [0.5000, 0.5000],\n",
            "        [0.5000, 0.5000]])\n"
          ]
        }
      ]
    },
    {
      "cell_type": "code",
      "metadata": {
        "id": "QTLmBwsSzYKx",
        "outputId": "eaa1495c-f224-45a6-cffd-198425c8879d",
        "colab": {
          "base_uri": "https://localhost:8080/",
          "height": 297
        }
      },
      "source": [
        "plot1(Matriz_Inputs, Matriz_Outputs2)"
      ],
      "execution_count": 30,
      "outputs": [
        {
          "output_type": "display_data",
          "data": {
            "image/png": "[encoded data removed]",
            "text/plain": [
              "<Figure size 1080x288 with 3 Axes>"
            ]
          },
          "metadata": {
            "needs_background": "light"
          }
        }
      ]
    },
    {
      "cell_type": "markdown",
      "source": [
        "En este caso, todos los vectores generados son iguales. La pregunta ahora es, ¿cuánta atención debe un vector prestar al resto? La respuesta es sencilla...Self attention !"
      ],
      "metadata": {
        "id": "DifbZe6dzyl2"
      }
    },
    {
      "cell_type": "markdown",
      "metadata": {
        "id": "frequent-study"
      },
      "source": [
        "### *Self attention*"
      ]
    },
    {
      "cell_type": "markdown",
      "metadata": {
        "id": "precise-stockholm"
      },
      "source": [
        "En este último mecanismo de atención que veremos, cada vector es responsable de decidir por si mismo cuánta atención prestar al resto. Para ello calcularemos la similitud entre vectores. Cuanto más parecidos sean dos vectores, más atención habrá entre ellos y viceversa. En una tarea de traducción de texto, por ejemplo, a la hora de generar una palabra un mecanismo de *self attention* permitiría prestar más atención a aquellas palabras más relacionadas a la entrada, y no desperdiciar computación con aquellas que no tienen importancia. Esta similitud la calculamos multiplicando los vectores por si mismos y aplicando una función softmax."
      ]
    },
    {
      "cell_type": "code",
      "metadata": {
        "id": "Eah8CBzFzYKA",
        "outputId": "b4150923-39cc-4f5d-f0d3-573afb344054",
        "colab": {
          "base_uri": "https://localhost:8080/"
        }
      },
      "source": [
        "# self attention -> similitud de cada vector con el resto\n",
        "\n",
        "#Creamos una la matriz de entrada\n",
        "Matriz_Input = torch.tensor([[1, 0], [0, 1], [-0.5, -0.5]])\n",
        "print(\"------- Matriz de Inputs -----------\")\n",
        "print(Matriz_Input)\n",
        "\n",
        "# Verificando la similitud y aplicamos softmax\n",
        "Matriz_Atencion = torch.softmax(Matriz_Input @ Matriz_Input.T, 1)\n",
        "print(\"------- Matriz de Atencion -----------\")\n",
        "print(Matriz_Atencion)"
      ],
      "execution_count": 34,
      "outputs": [
        {
          "output_type": "stream",
          "name": "stdout",
          "text": [
            "------- Matriz de Inputs -----------\n",
            "tensor([[ 1.0000,  0.0000],\n",
            "        [ 0.0000,  1.0000],\n",
            "        [-0.5000, -0.5000]])\n",
            "------- Matriz de Atencion -----------\n",
            "tensor([[0.6285, 0.2312, 0.1402],\n",
            "        [0.2312, 0.6285, 0.1402],\n",
            "        [0.2119, 0.2119, 0.5761]])\n"
          ]
        }
      ]
    },
    {
      "cell_type": "code",
      "metadata": {
        "id": "angav1W0zYCY",
        "outputId": "d7dcff21-b441-465b-bf9f-848d73f6a32a",
        "colab": {
          "base_uri": "https://localhost:8080/"
        }
      },
      "source": [
        "# Aplicamos nuestro mecanismo Self Attention Multiplicando nuestra Matriz de Atencion y Nuestros Inputs\n",
        "Matriz_outputs3 = Matriz_Atencion @ Matriz_Input\n",
        "print(\"------- Matriz de Outputs -----------\")\n",
        "print(Matriz_outputs3)"
      ],
      "execution_count": 36,
      "outputs": [
        {
          "output_type": "stream",
          "name": "stdout",
          "text": [
            "------- Matriz de Outputs -----------\n",
            "tensor([[ 0.5584,  0.1611],\n",
            "        [ 0.1611,  0.5584],\n",
            "        [-0.0761, -0.0761]])\n"
          ]
        }
      ]
    },
    {
      "cell_type": "code",
      "metadata": {
        "id": "bu4Xa9hS6W3S",
        "outputId": "dbdea0a6-38b7-475c-918b-0ee74bdc74d2",
        "colab": {
          "base_uri": "https://localhost:8080/",
          "height": 297
        }
      },
      "source": [
        "plot1(Matriz_Input, Matriz_outputs3)"
      ],
      "execution_count": 38,
      "outputs": [
        {
          "output_type": "display_data",
          "data": {
            "image/png": "[encoded data removed]",
            "text/plain": [
              "<Figure size 1080x288 with 3 Axes>"
            ]
          },
          "metadata": {
            "needs_background": "light"
          }
        }
      ]
    },
    {
      "cell_type": "markdown",
      "source": [
        "Ejercicio de Comprension : Vamos a aplicar *self attetion* a un tensor mas grande y ver los outputs verificando cuanta atencion presta a los deferentes valores."
      ],
      "metadata": {
        "id": "z-VLB8G26oWC"
      }
    },
    {
      "cell_type": "markdown",
      "source": [
        "Primero Creamos Nuestra Matriz de Inputs 3 x 3"
      ],
      "metadata": {
        "id": "HGBButBx7Lhg"
      }
    },
    {
      "cell_type": "code",
      "source": [
        "Matriz_Inputs_IMG_Computadoras = torch.tensor([\n",
        "                                               [0.1, 0.1, 0.8],\n",
        "                                               [0.2, 0.4, 0.4],\n",
        "                                               [0.0, 0.0, 1],\n",
        "                                               ]);\n",
        "print(\"------- Matriz de Inputs -----------\")\n",
        "print(Matriz_Inputs_IMG_Computadoras)                                        "
      ],
      "metadata": {
        "id": "4WHLse6I6uSR",
        "outputId": "f66b10ee-1d53-4aed-ee32-28689cb55838",
        "colab": {
          "base_uri": "https://localhost:8080/"
        }
      },
      "execution_count": 40,
      "outputs": [
        {
          "output_type": "stream",
          "name": "stdout",
          "text": [
            "------- Matriz de Inputs -----------\n",
            "tensor([[0.1000, 0.1000, 0.8000],\n",
            "        [0.2000, 0.4000, 0.4000],\n",
            "        [0.0000, 0.0000, 1.0000]])\n"
          ]
        }
      ]
    },
    {
      "cell_type": "markdown",
      "source": [
        "Segundo Aplicamos Softmax y La Multiplicacion de nuestra Matriz de Inputs con su Transpuesta para Calcular la Similitud entre Nuestros Vectores."
      ],
      "metadata": {
        "id": "foFEQhMj79Vf"
      }
    },
    {
      "cell_type": "code",
      "source": [
        "Matriz_Atencion = torch.softmax(Matriz_Inputs_IMG_Computadoras @ Matriz_Inputs_IMG_Computadoras.T, 1)\n",
        "print(\"------- Matriz de Atencion -----------\")\n",
        "print(Matriz_Atencion)"
      ],
      "metadata": {
        "id": "dPEq62Wb8U-N",
        "outputId": "d7bbb4cd-4a17-4bba-86fd-6e04dce30107",
        "colab": {
          "base_uri": "https://localhost:8080/"
        }
      },
      "execution_count": 41,
      "outputs": [
        {
          "output_type": "stream",
          "name": "stdout",
          "text": [
            "------- Matriz de Atencion -----------\n",
            "tensor([[0.3441, 0.2601, 0.3958],\n",
            "        [0.3333, 0.3267, 0.3400],\n",
            "        [0.3458, 0.2318, 0.4224]])\n"
          ]
        }
      ]
    },
    {
      "cell_type": "markdown",
      "source": [
        "Tercero Aplicamos el mecanismo de atencion multiplicando nuestra Matriz de Atencion con Nuestra Matriz de Inputs."
      ],
      "metadata": {
        "id": "0ot115YD8wLF"
      }
    },
    {
      "cell_type": "code",
      "source": [
        "Matriz_outputs4 = Matriz_Atencion @ Matriz_Inputs_IMG_Computadoras\n",
        "print(\"------- Matriz de Outputs -----------\")\n",
        "print(Matriz_outputs4)"
      ],
      "metadata": {
        "id": "5P78-ogN88-M",
        "outputId": "e544b2c0-30a0-4869-ba49-156a4e115eab",
        "colab": {
          "base_uri": "https://localhost:8080/"
        }
      },
      "execution_count": 42,
      "outputs": [
        {
          "output_type": "stream",
          "name": "stdout",
          "text": [
            "------- Matriz de Outputs -----------\n",
            "tensor([[0.0864, 0.1384, 0.7751],\n",
            "        [0.0987, 0.1640, 0.7373],\n",
            "        [0.0809, 0.1273, 0.7918]])\n"
          ]
        }
      ]
    }
  ]
}